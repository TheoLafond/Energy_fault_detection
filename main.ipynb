{
 "cells": [
  {
   "cell_type": "code",
   "execution_count": 35,
   "metadata": {},
   "outputs": [],
   "source": [
    "import tensorflow as tf\n",
    "from keras import Input\n",
    "from keras.models import Sequential\n",
    "from tensorflow.keras.layers import Dense, Input\n",
    "from keras.optimizers import Adam\n",
    "from keras.callbacks import ReduceLROnPlateau, EarlyStopping\n",
    "from keras.regularizers import l2\n",
    "from time import time\n",
    "from util.dataset import Dataset\n",
    "import scipy\n",
    "import numpy as np"
   ]
  },
  {
   "cell_type": "code",
   "execution_count": 13,
   "metadata": {},
   "outputs": [],
   "source": [
    "path1 = \"Network class/cls1.mat\"\n",
    "path2 = \"Network class/cls2.mat\"\n",
    "path3 = \"Network class/cls3.mat\"\n",
    "data1 = scipy.io.loadmat(path1)[\"cls1\"]\n",
    "data2 = scipy.io.loadmat(path2)[\"cls2\"]\n",
    "data3 = scipy.io.loadmat(path3)[\"cls3\"]\n",
    "data = np.concatenate((data1, data2, data3), axis=0)\n",
    "y = np.zeros((data.shape[0], 3))\n",
    "y[0:data1.shape[0], 0] = 1\n",
    "y[data1.shape[0]:data1.shape[0]+data2.shape[0], 1] = 1\n",
    "y[data1.shape[0]+data2.shape[0]:, 2] = 1\n",
    "data = tf.convert_to_tensor(data, dtype=tf.float32)\n",
    "y = tf.convert_to_tensor(y, dtype=tf.float32)\n",
    "        \n",
    "\n",
    "# Implement code to load data from the file\n",
    "# Your code here\n",
    "        \n",
    "        \n",
    "    \n",
    "# Convert the numpy arrays to TensorFlow datasets\n",
    "tf_data = tf.data.Dataset.from_tensor_slices((data, y))"
   ]
  },
  {
   "cell_type": "code",
   "execution_count": 14,
   "metadata": {},
   "outputs": [
    {
     "name": "stderr",
     "output_type": "stream",
     "text": [
      "2023-12-15 10:23:27.221172: I tensorflow/core/common_runtime/executor.cc:1197] [/device:CPU:0] (DEBUG INFO) Executor start aborting (this does not indicate an error and you can ignore this message): INVALID_ARGUMENT: You must feed a value for placeholder tensor 'Placeholder/_1' with dtype float and shape [874,3]\n",
      "\t [[{{node Placeholder/_1}}]]\n",
      "2023-12-15 10:23:27.446749: I tensorflow/core/common_runtime/executor.cc:1197] [/device:CPU:0] (DEBUG INFO) Executor start aborting (this does not indicate an error and you can ignore this message): INVALID_ARGUMENT: You must feed a value for placeholder tensor 'Placeholder/_1' with dtype float and shape [699,3]\n",
      "\t [[{{node Placeholder/_1}}]]\n"
     ]
    }
   ],
   "source": [
    "seed = 2023\n",
    "Xtrain_val, Xtest=tf.keras.utils.split_dataset(\n",
    "    tf_data, left_size=0.8, right_size=0.2, shuffle=True, seed=seed\n",
    ")\n",
    "Xtrain, Xval = tf.keras.utils.split_dataset(\n",
    "    Xtrain_val, left_size=0.8, right_size=0.2, shuffle=True, seed=seed\n",
    ")\n"
   ]
  },
  {
   "cell_type": "code",
   "execution_count": 36,
   "metadata": {},
   "outputs": [
    {
     "name": "stdout",
     "output_type": "stream",
     "text": [
      "Epoch 1/5\n"
     ]
    },
    {
     "ename": "ValueError",
     "evalue": "in user code:\n\n    File \"/Users/aymanekhattabi/opt/anaconda3/envs/sim_proj/lib/python3.11/site-packages/keras/engine/training.py\", line 1284, in train_function  *\n        return step_function(self, iterator)\n    File \"/Users/aymanekhattabi/opt/anaconda3/envs/sim_proj/lib/python3.11/site-packages/keras/engine/training.py\", line 1268, in step_function  **\n        outputs = model.distribute_strategy.run(run_step, args=(data,))\n    File \"/Users/aymanekhattabi/opt/anaconda3/envs/sim_proj/lib/python3.11/site-packages/keras/engine/training.py\", line 1249, in run_step  **\n        outputs = model.train_step(data)\n    File \"/Users/aymanekhattabi/opt/anaconda3/envs/sim_proj/lib/python3.11/site-packages/keras/engine/training.py\", line 1050, in train_step\n        y_pred = self(x, training=True)\n    File \"/Users/aymanekhattabi/opt/anaconda3/envs/sim_proj/lib/python3.11/site-packages/keras/utils/traceback_utils.py\", line 70, in error_handler\n        raise e.with_traceback(filtered_tb) from None\n    File \"/Users/aymanekhattabi/opt/anaconda3/envs/sim_proj/lib/python3.11/site-packages/keras/engine/input_spec.py\", line 253, in assert_input_compatibility\n        raise ValueError(\n\n    ValueError: Exception encountered when calling layer 'sequential_10' (type Sequential).\n    \n    Input 0 of layer \"dense_28\" is incompatible with the layer: expected min_ndim=2, found ndim=1. Full shape received: (61,)\n    \n    Call arguments received by layer 'sequential_10' (type Sequential):\n      • inputs=tf.Tensor(shape=(61,), dtype=float32)\n      • training=True\n      • mask=None\n",
     "output_type": "error",
     "traceback": [
      "\u001b[0;31m---------------------------------------------------------------------------\u001b[0m",
      "\u001b[0;31mValueError\u001b[0m                                Traceback (most recent call last)",
      "Cell \u001b[0;32mIn[36], line 20\u001b[0m\n\u001b[1;32m     11\u001b[0m model\u001b[38;5;241m.\u001b[39mcompile(loss\u001b[38;5;241m=\u001b[39m\u001b[38;5;124m'\u001b[39m\u001b[38;5;124mcategorical_crossentropy\u001b[39m\u001b[38;5;124m'\u001b[39m,  \u001b[38;5;66;03m# Use categorical_crossentropy for multiclass classification\u001b[39;00m\n\u001b[1;32m     12\u001b[0m               optimizer\u001b[38;5;241m=\u001b[39mAdam(),\n\u001b[1;32m     13\u001b[0m               metrics\u001b[38;5;241m=\u001b[39m[\u001b[38;5;124m'\u001b[39m\u001b[38;5;124maccuracy\u001b[39m\u001b[38;5;124m'\u001b[39m])\n\u001b[1;32m     15\u001b[0m \u001b[38;5;66;03m# Assuming y_train is one-hot encoded for multiclass classification\u001b[39;00m\n\u001b[1;32m     16\u001b[0m \u001b[38;5;66;03m# If not, you might need to use tf.keras.utils.to_categorical to one-hot encode your labels\u001b[39;00m\n\u001b[1;32m     17\u001b[0m \u001b[38;5;66;03m# Example: y_train_one_hot = tf.keras.utils.to_categorical(y_train, num_classes=3)\u001b[39;00m\n\u001b[1;32m     18\u001b[0m \n\u001b[1;32m     19\u001b[0m \u001b[38;5;66;03m# Train the model\u001b[39;00m\n\u001b[0;32m---> 20\u001b[0m \u001b[43mmodel\u001b[49m\u001b[38;5;241;43m.\u001b[39;49m\u001b[43mfit\u001b[49m\u001b[43m(\u001b[49m\u001b[43mXtrain\u001b[49m\u001b[43m,\u001b[49m\u001b[43m \u001b[49m\u001b[43mbatch_size\u001b[49m\u001b[38;5;241;43m=\u001b[39;49m\u001b[38;5;241;43m16\u001b[39;49m\u001b[43m,\u001b[49m\u001b[43m \u001b[49m\u001b[43mepochs\u001b[49m\u001b[38;5;241;43m=\u001b[39;49m\u001b[38;5;241;43m5\u001b[39;49m\u001b[43m)\u001b[49m\n",
      "File \u001b[0;32m~/opt/anaconda3/envs/sim_proj/lib/python3.11/site-packages/keras/utils/traceback_utils.py:70\u001b[0m, in \u001b[0;36mfilter_traceback.<locals>.error_handler\u001b[0;34m(*args, **kwargs)\u001b[0m\n\u001b[1;32m     67\u001b[0m     filtered_tb \u001b[39m=\u001b[39m _process_traceback_frames(e\u001b[39m.\u001b[39m__traceback__)\n\u001b[1;32m     68\u001b[0m     \u001b[39m# To get the full stack trace, call:\u001b[39;00m\n\u001b[1;32m     69\u001b[0m     \u001b[39m# `tf.debugging.disable_traceback_filtering()`\u001b[39;00m\n\u001b[0;32m---> 70\u001b[0m     \u001b[39mraise\u001b[39;00m e\u001b[39m.\u001b[39mwith_traceback(filtered_tb) \u001b[39mfrom\u001b[39;00m \u001b[39mNone\u001b[39;00m\n\u001b[1;32m     71\u001b[0m \u001b[39mfinally\u001b[39;00m:\n\u001b[1;32m     72\u001b[0m     \u001b[39mdel\u001b[39;00m filtered_tb\n",
      "File \u001b[0;32m/var/folders/_k/qqns11tn1k1b6x5kkzkgn5bc0000gn/T/__autograph_generated_filejq8s2tbl.py:15\u001b[0m, in \u001b[0;36mouter_factory.<locals>.inner_factory.<locals>.tf__train_function\u001b[0;34m(iterator)\u001b[0m\n\u001b[1;32m     13\u001b[0m \u001b[39mtry\u001b[39;00m:\n\u001b[1;32m     14\u001b[0m     do_return \u001b[39m=\u001b[39m \u001b[39mTrue\u001b[39;00m\n\u001b[0;32m---> 15\u001b[0m     retval_ \u001b[39m=\u001b[39m ag__\u001b[39m.\u001b[39mconverted_call(ag__\u001b[39m.\u001b[39mld(step_function), (ag__\u001b[39m.\u001b[39mld(\u001b[39mself\u001b[39m), ag__\u001b[39m.\u001b[39mld(iterator)), \u001b[39mNone\u001b[39;00m, fscope)\n\u001b[1;32m     16\u001b[0m \u001b[39mexcept\u001b[39;00m:\n\u001b[1;32m     17\u001b[0m     do_return \u001b[39m=\u001b[39m \u001b[39mFalse\u001b[39;00m\n",
      "\u001b[0;31mValueError\u001b[0m: in user code:\n\n    File \"/Users/aymanekhattabi/opt/anaconda3/envs/sim_proj/lib/python3.11/site-packages/keras/engine/training.py\", line 1284, in train_function  *\n        return step_function(self, iterator)\n    File \"/Users/aymanekhattabi/opt/anaconda3/envs/sim_proj/lib/python3.11/site-packages/keras/engine/training.py\", line 1268, in step_function  **\n        outputs = model.distribute_strategy.run(run_step, args=(data,))\n    File \"/Users/aymanekhattabi/opt/anaconda3/envs/sim_proj/lib/python3.11/site-packages/keras/engine/training.py\", line 1249, in run_step  **\n        outputs = model.train_step(data)\n    File \"/Users/aymanekhattabi/opt/anaconda3/envs/sim_proj/lib/python3.11/site-packages/keras/engine/training.py\", line 1050, in train_step\n        y_pred = self(x, training=True)\n    File \"/Users/aymanekhattabi/opt/anaconda3/envs/sim_proj/lib/python3.11/site-packages/keras/utils/traceback_utils.py\", line 70, in error_handler\n        raise e.with_traceback(filtered_tb) from None\n    File \"/Users/aymanekhattabi/opt/anaconda3/envs/sim_proj/lib/python3.11/site-packages/keras/engine/input_spec.py\", line 253, in assert_input_compatibility\n        raise ValueError(\n\n    ValueError: Exception encountered when calling layer 'sequential_10' (type Sequential).\n    \n    Input 0 of layer \"dense_28\" is incompatible with the layer: expected min_ndim=2, found ndim=1. Full shape received: (61,)\n    \n    Call arguments received by layer 'sequential_10' (type Sequential):\n      • inputs=tf.Tensor(shape=(61,), dtype=float32)\n      • training=True\n      • mask=None\n"
     ]
    }
   ],
   "source": [
    "tf_data = tf.data.Dataset.from_tensor_slices((data, y))\n",
    "Xtrain_val, Xtest=tf.keras.utils.split_dataset(\n",
    "    tf_data, left_size=0.8, right_size=0.2, shuffle=True, seed=seed\n",
    ")\n",
    "Xtrain, Xval = tf.keras.utils.split_dataset(\n",
    "    Xtrain_val, left_size=0.8, right_size=0.2, shuffle=True, seed=seed\n",
    ")\n",
    "model = Sequential([Input(shape=(1, 61), dtype=tf.float32)])\n",
    "\n",
    "# Add Dense layers with sigmoid activation\n",
    "model.add(Dense(122, activation='sigmoid'))\n",
    "model.add(Dense(122, activation='sigmoid'))\n",
    "\n",
    "# Output layer with softmax activation for multiclass classification\n",
    "model.add(Dense(3, activation='softmax'))\n",
    "\n",
    "# Compile the model\n",
    "model.compile(loss='categorical_crossentropy',  # Use categorical_crossentropy for multiclass classification\n",
    "              optimizer=Adam(),\n",
    "              metrics=['accuracy'])\n",
    "\n",
    "# Assuming y_train is one-hot encoded for multiclass classification\n",
    "# If not, you might need to use tf.keras.utils.to_categorical to one-hot encode your labels\n",
    "# Example: y_train_one_hot = tf.keras.utils.to_categorical(y_train, num_classes=3)\n",
    "\n",
    "# Train the model\n",
    "model.fit(Xtrain, batch_size=16, epochs=5)"
   ]
  },
  {
   "cell_type": "code",
   "execution_count": null,
   "metadata": {},
   "outputs": [],
   "source": []
  }
 ],
 "metadata": {
  "language_info": {
   "name": "python"
  },
  "orig_nbformat": 4
 },
 "nbformat": 4,
 "nbformat_minor": 2
}
